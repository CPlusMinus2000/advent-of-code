{
 "cells": [
  {
   "cell_type": "code",
   "execution_count": 1,
   "metadata": {},
   "outputs": [],
   "source": [
    "ROCK, PAPER, SCISSORS = 1, 2, 3\n",
    "LOSS, DRAW, WIN = 0, 3, 6\n",
    "\n",
    "OPP = {\n",
    "    'A': ROCK,\n",
    "    'B': PAPER,\n",
    "    'C': SCISSORS\n",
    "}\n",
    "\n",
    "YOU = {\n",
    "    'X': ROCK,\n",
    "    'Y': PAPER,\n",
    "    'Z': SCISSORS\n",
    "}\n",
    "\n",
    "OUTCOME = {\n",
    "    'X': LOSS,\n",
    "    'Y': DRAW,\n",
    "    'Z': WIN\n",
    "}\n",
    "\n",
    "def get_score(opp_choice, you_choice):\n",
    "    if opp_choice == you_choice:\n",
    "        return DRAW\n",
    "    if opp_choice == ROCK:\n",
    "        if you_choice == PAPER:\n",
    "            return WIN\n",
    "        else:\n",
    "            return LOSS\n",
    "    if opp_choice == PAPER:\n",
    "        if you_choice == SCISSORS:\n",
    "            return WIN\n",
    "        else:\n",
    "            return LOSS\n",
    "    if opp_choice == SCISSORS:\n",
    "        if you_choice == ROCK:\n",
    "            return WIN\n",
    "        else:\n",
    "            return LOSS\n",
    "\n",
    "def get_move_from_outcome(opp_choice, outcome):\n",
    "    if outcome == LOSS:\n",
    "        return ((opp_choice - 2) % 3) + 1\n",
    "    if outcome == DRAW:\n",
    "        return opp_choice\n",
    "    if outcome == WIN:\n",
    "        return (opp_choice % 3) + 1"
   ]
  },
  {
   "cell_type": "code",
   "execution_count": 2,
   "metadata": {},
   "outputs": [],
   "source": [
    "with open(\"../data/day2.txt\", 'r') as f:\n",
    "    rounds = f.read().splitlines()"
   ]
  },
  {
   "cell_type": "code",
   "execution_count": 3,
   "metadata": {},
   "outputs": [
    {
     "data": {
      "text/plain": [
       "13675"
      ]
     },
     "execution_count": 3,
     "metadata": {},
     "output_type": "execute_result"
    }
   ],
   "source": [
    "total = 0\n",
    "for round in rounds:\n",
    "    opp_choice, you_choice = round.split()\n",
    "    total += YOU[you_choice] + get_score(OPP[opp_choice], YOU[you_choice])\n",
    "\n",
    "total"
   ]
  },
  {
   "cell_type": "code",
   "execution_count": 4,
   "metadata": {},
   "outputs": [
    {
     "data": {
      "text/plain": [
       "14184"
      ]
     },
     "execution_count": 4,
     "metadata": {},
     "output_type": "execute_result"
    }
   ],
   "source": [
    "total = 0\n",
    "for round in rounds:\n",
    "    opp_choice, outcome = round.split()\n",
    "    x = get_move_from_outcome(OPP[opp_choice], OUTCOME[outcome])\n",
    "    total += x + OUTCOME[outcome]\n",
    "\n",
    "total"
   ]
  },
  {
   "cell_type": "code",
   "execution_count": null,
   "metadata": {},
   "outputs": [],
   "source": []
  }
 ],
 "metadata": {
  "kernelspec": {
   "display_name": "Python 3.10.5 64-bit ('3.10.5')",
   "language": "python",
   "name": "python3"
  },
  "language_info": {
   "codemirror_mode": {
    "name": "ipython",
    "version": 3
   },
   "file_extension": ".py",
   "mimetype": "text/x-python",
   "name": "python",
   "nbconvert_exporter": "python",
   "pygments_lexer": "ipython3",
   "version": "3.10.5"
  },
  "orig_nbformat": 4,
  "vscode": {
   "interpreter": {
    "hash": "5ced4c2b8d744e039126781c6e816f8a40567db06e906612e69df7d8aaa85c1f"
   }
  }
 },
 "nbformat": 4,
 "nbformat_minor": 2
}
