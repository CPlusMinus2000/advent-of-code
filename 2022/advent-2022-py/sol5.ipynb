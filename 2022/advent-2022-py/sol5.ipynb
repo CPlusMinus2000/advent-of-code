{
 "cells": [
  {
   "cell_type": "code",
   "execution_count": 20,
   "metadata": {},
   "outputs": [],
   "source": [
    "with open(\"../data/day5.txt\", 'r') as f:\n",
    "    data = f.read()"
   ]
  },
  {
   "cell_type": "code",
   "execution_count": 21,
   "metadata": {},
   "outputs": [],
   "source": [
    "def load_data(data):\n",
    "    stacks, moves = data.split(\"\\n\\n\")\n",
    "    stacks = [list(c) for c in stacks.splitlines()]\n",
    "    moves = [\n",
    "        [int(m.split()[1]), int(m.split()[3]), int(m.split()[5])]\n",
    "        for m in moves.splitlines()\n",
    "    ]\n",
    "\n",
    "    return stacks, moves"
   ]
  },
  {
   "cell_type": "code",
   "execution_count": 22,
   "metadata": {},
   "outputs": [],
   "source": [
    "def part1(stacks, moves):\n",
    "    for move in moves:\n",
    "        for _ in range(move[0]):\n",
    "            stacks[move[2] - 1].append(stacks[move[1] - 1].pop())\n",
    "\n",
    "    return [s[-1] for s in stacks]"
   ]
  },
  {
   "cell_type": "code",
   "execution_count": 23,
   "metadata": {},
   "outputs": [],
   "source": [
    "def part2(stacks, moves):\n",
    "    for move in moves:\n",
    "        temp = []\n",
    "        for _ in range(move[0]):\n",
    "            temp.append(stacks[move[1] - 1].pop())\n",
    "\n",
    "        for _ in range(move[0]):\n",
    "            stacks[move[2] - 1].append(temp.pop())\n",
    "\n",
    "    return [s[-1] for s in stacks]"
   ]
  },
  {
   "cell_type": "code",
   "execution_count": 24,
   "metadata": {},
   "outputs": [
    {
     "data": {
      "text/plain": [
       "['T', 'G', 'W', 'S', 'M', 'R', 'B', 'P', 'N']"
      ]
     },
     "execution_count": 24,
     "metadata": {},
     "output_type": "execute_result"
    }
   ],
   "source": [
    "stacks, moves = load_data(data)\n",
    "part1(stacks, moves)"
   ]
  },
  {
   "cell_type": "code",
   "execution_count": 25,
   "metadata": {},
   "outputs": [
    {
     "ename": "IndexError",
     "evalue": "pop from empty list",
     "output_type": "error",
     "traceback": [
      "\u001b[0;31m---------------------------------------------------------------------------\u001b[0m",
      "\u001b[0;31mIndexError\u001b[0m                                Traceback (most recent call last)",
      "\u001b[1;32m/Users/colinhe/Library/CloudStorage/OneDrive-UniversityofWaterloo/Desktop/Cool Stuff/Programming/Advent of Code/2022/sol5.ipynb Cell 6\u001b[0m in \u001b[0;36m<cell line: 1>\u001b[0;34m()\u001b[0m\n\u001b[0;32m----> <a href='vscode-notebook-cell:/Users/colinhe/Library/CloudStorage/OneDrive-UniversityofWaterloo/Desktop/Cool%20Stuff/Programming/Advent%20of%20Code/2022/sol5.ipynb#W4sZmlsZQ%3D%3D?line=0'>1</a>\u001b[0m part2(stacks, moves)\n",
      "\u001b[1;32m/Users/colinhe/Library/CloudStorage/OneDrive-UniversityofWaterloo/Desktop/Cool Stuff/Programming/Advent of Code/2022/sol5.ipynb Cell 6\u001b[0m in \u001b[0;36mpart2\u001b[0;34m(stacks, moves)\u001b[0m\n\u001b[1;32m      <a href='vscode-notebook-cell:/Users/colinhe/Library/CloudStorage/OneDrive-UniversityofWaterloo/Desktop/Cool%20Stuff/Programming/Advent%20of%20Code/2022/sol5.ipynb#W4sZmlsZQ%3D%3D?line=2'>3</a>\u001b[0m temp \u001b[39m=\u001b[39m []\n\u001b[1;32m      <a href='vscode-notebook-cell:/Users/colinhe/Library/CloudStorage/OneDrive-UniversityofWaterloo/Desktop/Cool%20Stuff/Programming/Advent%20of%20Code/2022/sol5.ipynb#W4sZmlsZQ%3D%3D?line=3'>4</a>\u001b[0m \u001b[39mfor\u001b[39;00m _ \u001b[39min\u001b[39;00m \u001b[39mrange\u001b[39m(move[\u001b[39m0\u001b[39m]):\n\u001b[0;32m----> <a href='vscode-notebook-cell:/Users/colinhe/Library/CloudStorage/OneDrive-UniversityofWaterloo/Desktop/Cool%20Stuff/Programming/Advent%20of%20Code/2022/sol5.ipynb#W4sZmlsZQ%3D%3D?line=4'>5</a>\u001b[0m     temp\u001b[39m.\u001b[39mappend(stacks[move[\u001b[39m1\u001b[39;49m] \u001b[39m-\u001b[39;49m \u001b[39m1\u001b[39;49m]\u001b[39m.\u001b[39;49mpop())\n\u001b[1;32m      <a href='vscode-notebook-cell:/Users/colinhe/Library/CloudStorage/OneDrive-UniversityofWaterloo/Desktop/Cool%20Stuff/Programming/Advent%20of%20Code/2022/sol5.ipynb#W4sZmlsZQ%3D%3D?line=6'>7</a>\u001b[0m \u001b[39mfor\u001b[39;00m _ \u001b[39min\u001b[39;00m \u001b[39mrange\u001b[39m(move[\u001b[39m0\u001b[39m]):\n\u001b[1;32m      <a href='vscode-notebook-cell:/Users/colinhe/Library/CloudStorage/OneDrive-UniversityofWaterloo/Desktop/Cool%20Stuff/Programming/Advent%20of%20Code/2022/sol5.ipynb#W4sZmlsZQ%3D%3D?line=7'>8</a>\u001b[0m     stacks[move[\u001b[39m2\u001b[39m] \u001b[39m-\u001b[39m \u001b[39m1\u001b[39m]\u001b[39m.\u001b[39mappend(temp\u001b[39m.\u001b[39mpop())\n",
      "\u001b[0;31mIndexError\u001b[0m: pop from empty list"
     ]
    }
   ],
   "source": [
    "stacks, moves = load_data(data)\n",
    "part2(stacks, moves)"
   ]
  },
  {
   "cell_type": "code",
   "execution_count": null,
   "metadata": {},
   "outputs": [],
   "source": []
  }
 ],
 "metadata": {
  "kernelspec": {
   "display_name": "Python 3.10.5 ('notebook')",
   "language": "python",
   "name": "python3"
  },
  "language_info": {
   "codemirror_mode": {
    "name": "ipython",
    "version": 3
   },
   "file_extension": ".py",
   "mimetype": "text/x-python",
   "name": "python",
   "nbconvert_exporter": "python",
   "pygments_lexer": "ipython3",
   "version": "3.10.5"
  },
  "orig_nbformat": 4,
  "vscode": {
   "interpreter": {
    "hash": "19281fdfa4f2c6adf910337745ffb3ae4f3651ce0dcb0abb3f3a2e5fdeaac727"
   }
  }
 },
 "nbformat": 4,
 "nbformat_minor": 2
}
